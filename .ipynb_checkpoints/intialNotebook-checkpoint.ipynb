{
 "cells": [
  {
   "cell_type": "code",
   "execution_count": null,
   "id": "4d74799e-9065-4675-bb79-8d4062082776",
   "metadata": {},
   "outputs": [],
   "source": []
  }
 ],
 "metadata": {
  "kernelspec": {
   "display_name": "",
   "name": ""
  },
  "language_info": {
   "name": ""
  }
 },
 "nbformat": 4,
 "nbformat_minor": 5
}
